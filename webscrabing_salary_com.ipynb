{
  "nbformat": 4,
  "nbformat_minor": 0,
  "metadata": {
    "colab": {
      "name": "webscrabing_salary.com.ipynb",
      "provenance": [],
      "mount_file_id": "1L_tSzH4J47Y4esRhq4tKCHtMr_0SsOZW",
      "authorship_tag": "ABX9TyPM+sKYfCqpc0ZZr0MtLpMW",
      "include_colab_link": true
    },
    "kernelspec": {
      "name": "python3",
      "display_name": "Python 3"
    },
    "language_info": {
      "name": "python"
    }
  },
  "cells": [
    {
      "cell_type": "markdown",
      "metadata": {
        "id": "view-in-github",
        "colab_type": "text"
      },
      "source": [
        "<a href=\"https://colab.research.google.com/github/Raph-09/Heroku-Demo/blob/master/webscrabing_salary_com.ipynb\" target=\"_parent\"><img src=\"https://colab.research.google.com/assets/colab-badge.svg\" alt=\"Open In Colab\"/></a>"
      ]
    },
    {
      "cell_type": "code",
      "metadata": {
        "id": "AVfid5CYJOi5"
      },
      "source": [
        "import re\n",
        "import requests\n",
        "from bs4 import BeautifulSoup as bs\n",
        "import csv\n",
        "import json\n",
        "from time import sleep"
      ],
      "execution_count": null,
      "outputs": []
    },
    {
      "cell_type": "code",
      "metadata": {
        "id": "r7GAjNV5EzSM"
      },
      "source": [
        "# Import PyDrive and associated libraries.\n",
        "# This only needs to be done once per notebook.\n",
        "from pydrive.auth import GoogleAuth\n",
        "from pydrive.drive import GoogleDrive\n",
        "from google.colab import auth\n",
        "from oauth2client.client import GoogleCredentials\n",
        "\n",
        "# Authenticate and create the PyDrive client.\n",
        "# This only needs to be done once per notebook.\n",
        "auth.authenticate_user()\n",
        "gauth = GoogleAuth()\n",
        "gauth.credentials = GoogleCredentials.get_application_default()\n",
        "drive = GoogleDrive(gauth)\n",
        "\n",
        "# Download a file based on its file ID.\n",
        "#\n",
        "# A file ID looks like: laggVyWshwcyP6kEI-y_W3P8D26sz\n",
        "file_id = 'REPLACE_WITH_YOUR_FILE_ID'\n",
        "downloaded = drive.CreateFile({'id': file_id})\n",
        "print('Downloaded content \"{}\"'.format(downloaded.GetContentString()))"
      ],
      "execution_count": null,
      "outputs": []
    },
    {
      "cell_type": "code",
      "metadata": {
        "colab": {
          "base_uri": "https://localhost:8080/",
          "height": 17
        },
        "id": "dY_m7zwTE8E8",
        "outputId": "3ab7569f-1f61-4084-8cdb-954a9d4b490c"
      },
      "source": [
        "from google.colab import files\n",
        "\n",
        "with open('salary.com.ipynb', 'w') as f:\n",
        "  f.write('ssalary.com.ipynb')\n",
        "\n",
        "files.download('salary.com.ipynb')"
      ],
      "execution_count": 39,
      "outputs": [
        {
          "output_type": "display_data",
          "data": {
            "application/javascript": [
              "\n",
              "    async function download(id, filename, size) {\n",
              "      if (!google.colab.kernel.accessAllowed) {\n",
              "        return;\n",
              "      }\n",
              "      const div = document.createElement('div');\n",
              "      const label = document.createElement('label');\n",
              "      label.textContent = `Downloading \"${filename}\": `;\n",
              "      div.appendChild(label);\n",
              "      const progress = document.createElement('progress');\n",
              "      progress.max = size;\n",
              "      div.appendChild(progress);\n",
              "      document.body.appendChild(div);\n",
              "\n",
              "      const buffers = [];\n",
              "      let downloaded = 0;\n",
              "\n",
              "      const channel = await google.colab.kernel.comms.open(id);\n",
              "      // Send a message to notify the kernel that we're ready.\n",
              "      channel.send({})\n",
              "\n",
              "      for await (const message of channel.messages) {\n",
              "        // Send a message to notify the kernel that we're ready.\n",
              "        channel.send({})\n",
              "        if (message.buffers) {\n",
              "          for (const buffer of message.buffers) {\n",
              "            buffers.push(buffer);\n",
              "            downloaded += buffer.byteLength;\n",
              "            progress.value = downloaded;\n",
              "          }\n",
              "        }\n",
              "      }\n",
              "      const blob = new Blob(buffers, {type: 'application/binary'});\n",
              "      const a = document.createElement('a');\n",
              "      a.href = window.URL.createObjectURL(blob);\n",
              "      a.download = filename;\n",
              "      div.appendChild(a);\n",
              "      a.click();\n",
              "      div.remove();\n",
              "    }\n",
              "  "
            ],
            "text/plain": [
              "<IPython.core.display.Javascript object>"
            ]
          },
          "metadata": {
            "tags": []
          }
        },
        {
          "output_type": "display_data",
          "data": {
            "application/javascript": [
              "download(\"download_b11f4acd-a4e1-495b-a9c2-d4ac9b5c742b\", \"salary.com.ipynb\", 17)"
            ],
            "text/plain": [
              "<IPython.core.display.Javascript object>"
            ]
          },
          "metadata": {
            "tags": []
          }
        }
      ]
    },
    {
      "cell_type": "code",
      "metadata": {
        "id": "43bkgVcaPae2"
      },
      "source": [
        ""
      ],
      "execution_count": null,
      "outputs": []
    },
    {
      "cell_type": "markdown",
      "metadata": {
        "id": "jvm1DW0JAlEU"
      },
      "source": [
        "**TUTOR**: **ISREAL DRYER** YOUTUBE"
      ]
    },
    {
      "cell_type": "code",
      "metadata": {
        "id": "H-YX9HPMMr9X"
      },
      "source": [
        "temp = 'https://www.salary.com/research/salary/alternate/{}-salary/{}'\n",
        "position = 'senior-accountant'\n",
        "city = 'charlotte-nc'\n",
        "url = temp.format(position,city)"
      ],
      "execution_count": null,
      "outputs": []
    },
    {
      "cell_type": "code",
      "metadata": {
        "id": "QOGXFhTNOnT9"
      },
      "source": [
        "\n",
        "response = requests.get(url)"
      ],
      "execution_count": null,
      "outputs": []
    },
    {
      "cell_type": "code",
      "metadata": {
        "colab": {
          "base_uri": "https://localhost:8080/",
          "height": 36
        },
        "id": "piMy9A4VRwOx",
        "outputId": "1ee49b5e-c1ac-4cd1-eec8-812ab6ad9fbe"
      },
      "source": [
        "response.reason"
      ],
      "execution_count": null,
      "outputs": [
        {
          "output_type": "execute_result",
          "data": {
            "application/vnd.google.colaboratory.intrinsic+json": {
              "type": "string"
            },
            "text/plain": [
              "'OK'"
            ]
          },
          "metadata": {
            "tags": []
          },
          "execution_count": 5
        }
      ]
    },
    {
      "cell_type": "code",
      "metadata": {
        "id": "bcfrXwV1O0e6"
      },
      "source": [
        "soup = bs(response.text,\"html.parser\")\n"
      ],
      "execution_count": null,
      "outputs": []
    },
    {
      "cell_type": "code",
      "metadata": {
        "id": "mlsDUyZMPp2T"
      },
      "source": [
        "pattern  = re.compile(r'Occupation')\n",
        "scripts = soup.find('script',{'type':\"application/ld+json\"},text = pattern )"
      ],
      "execution_count": null,
      "outputs": []
    },
    {
      "cell_type": "code",
      "metadata": {
        "colab": {
          "base_uri": "https://localhost:8080/"
        },
        "id": "jtp1Uw66Q1Um",
        "outputId": "7f6f79ca-d314-4052-be46-c07bfd1cfc33"
      },
      "source": [
        "scripts"
      ],
      "execution_count": null,
      "outputs": [
        {
          "output_type": "execute_result",
          "data": {
            "text/plain": [
              "<script type=\"application/ld+json\">\n",
              " {\n",
              "    \"@context\": \"http://schema.org\",\n",
              "    \"@type\": \"Occupation\",\n",
              "    \"name\": \"Senior Accountant\",\n",
              "    \"mainEntityOfPage\": {\n",
              "        \"@type\": \"WebPage\",\n",
              "        \"lastReviewed\": \"2021-02-26T00:00:00Z\"\n",
              "    },\n",
              "    \"description\": \"The Senior Accountant ensures the accuracy of entries to ledger accounts and reconciles subsidiary ledger accounts to the general ledger. Maintains financial records and ensures that financial transactions are properly recorded. Being a Senior Accountant analyzes current costs, revenues, financial commitments, and obligations incurred to predict future revenues and expenses. Prepares complex balance sheets, profit and loss statements and other financial reports. In addition, Senior Accountant may supervise and guide lower-level accountants. Requires a bachelor&#39;s degree. May require CPA certification. Typically reports to a supervisor or manager. Being a Senior Accountant contributes to moderately complex aspects of a project. Work is generally independent and collaborative in nature. Working as a Senior Accountant typically requires 4 to 7 years of related experience.\",\n",
              "    \"estimatedSalary\": [{\n",
              "    \"@type\": \"MonetaryAmountDistribution\",\n",
              "    \"name\": \"base\",\n",
              "    \"currency\": \"USD\",\n",
              "    \"duration\" : \"P1Y\",\n",
              "    \"percentile10\": \"65262\",\n",
              "    \"percentile25\": \"72090\",\n",
              "    \"median\": \"79590\",\n",
              "    \"percentile75\": \"88190\",\n",
              "    \"percentile90\": \"96020\"\n",
              "    },\n",
              "    {\n",
              "    \"@type\": \"MonetaryAmountDistribution\",\n",
              "    \"name\": \"total compensation\",\n",
              "    \"currency\": \"USD\",\n",
              "    \"duration\" : \"P1Y\",\n",
              "    \"percentile10\": \"65851\",\n",
              "    \"percentile25\": \"73590\",\n",
              "    \"median\": \"82090\",\n",
              "    \"percentile75\": \"91890\",\n",
              "    \"percentile90\": \"100812\"\n",
              "    }]\n",
              "        \n",
              "        ,\n",
              "        \"occupationLocation\": [{\n",
              "            \"@type\": \"City\",\n",
              "            \"name\": \"Charlotte, NC\"\n",
              "        }]\n",
              "        \n",
              "}\n",
              "</script>"
            ]
          },
          "metadata": {
            "tags": []
          },
          "execution_count": 8
        }
      ]
    },
    {
      "cell_type": "code",
      "metadata": {
        "id": "dzwHClfUQ93b"
      },
      "source": [
        "json_raw = scripts.contents[0]"
      ],
      "execution_count": null,
      "outputs": []
    },
    {
      "cell_type": "code",
      "metadata": {
        "id": "SGnV51ZMTbmE"
      },
      "source": [
        "json_data =  json.loads(json_raw)#convert to python dictionary"
      ],
      "execution_count": null,
      "outputs": []
    },
    {
      "cell_type": "code",
      "metadata": {
        "colab": {
          "base_uri": "https://localhost:8080/"
        },
        "id": "9i83ckLxUM7X",
        "outputId": "afa59167-5cff-4e07-f673-9b013802b542"
      },
      "source": [
        "json_data"
      ],
      "execution_count": null,
      "outputs": [
        {
          "output_type": "execute_result",
          "data": {
            "text/plain": [
              "{'@context': 'http://schema.org',\n",
              " '@type': 'Occupation',\n",
              " 'description': 'The Senior Accountant ensures the accuracy of entries to ledger accounts and reconciles subsidiary ledger accounts to the general ledger. Maintains financial records and ensures that financial transactions are properly recorded. Being a Senior Accountant analyzes current costs, revenues, financial commitments, and obligations incurred to predict future revenues and expenses. Prepares complex balance sheets, profit and loss statements and other financial reports. In addition, Senior Accountant may supervise and guide lower-level accountants. Requires a bachelor&#39;s degree. May require CPA certification. Typically reports to a supervisor or manager. Being a Senior Accountant contributes to moderately complex aspects of a project. Work is generally independent and collaborative in nature. Working as a Senior Accountant typically requires 4 to 7 years of related experience.',\n",
              " 'estimatedSalary': [{'@type': 'MonetaryAmountDistribution',\n",
              "   'currency': 'USD',\n",
              "   'duration': 'P1Y',\n",
              "   'median': '79590',\n",
              "   'name': 'base',\n",
              "   'percentile10': '65262',\n",
              "   'percentile25': '72090',\n",
              "   'percentile75': '88190',\n",
              "   'percentile90': '96020'},\n",
              "  {'@type': 'MonetaryAmountDistribution',\n",
              "   'currency': 'USD',\n",
              "   'duration': 'P1Y',\n",
              "   'median': '82090',\n",
              "   'name': 'total compensation',\n",
              "   'percentile10': '65851',\n",
              "   'percentile25': '73590',\n",
              "   'percentile75': '91890',\n",
              "   'percentile90': '100812'}],\n",
              " 'mainEntityOfPage': {'@type': 'WebPage',\n",
              "  'lastReviewed': '2021-02-26T00:00:00Z'},\n",
              " 'name': 'Senior Accountant',\n",
              " 'occupationLocation': [{'@type': 'City', 'name': 'Charlotte, NC'}]}"
            ]
          },
          "metadata": {
            "tags": []
          },
          "execution_count": 11
        }
      ]
    },
    {
      "cell_type": "code",
      "metadata": {
        "id": "I4D0dnzyUhvi"
      },
      "source": [
        "job_title = json_data['name']\n",
        "location = json_data['occupationLocation'][0]['name']\n",
        "description = json_data['description']\n",
        "ntile_10 = json_data['estimatedSalary'][0]['percentile10']\n",
        "ntile_25 = json_data['estimatedSalary'][0]['percentile25']\n",
        "ntile_50 = json_data['estimatedSalary'][0]['median']\n",
        "ntile_75 = json_data['estimatedSalary'][0]['percentile75']\n",
        "ntile_90 = json_data['estimatedSalary'][0]['percentile90']"
      ],
      "execution_count": null,
      "outputs": []
    },
    {
      "cell_type": "code",
      "metadata": {
        "id": "HiIG9N9gZvlh"
      },
      "source": [
        ""
      ],
      "execution_count": null,
      "outputs": []
    },
    {
      "cell_type": "code",
      "metadata": {
        "id": "T1OEXi5HWZgl"
      },
      "source": [
        "def extract_salary(job_title,city):\n",
        "  # extract the salary for a profession in a given city\n",
        "  temp = 'https://www.salary.com/research/salary/alternate/{}-salary/{}'\n",
        "  url = temp.format(job_title,city)\n",
        "  try:\n",
        "    response = requests.get(url)\n",
        "    if response.status_code!=200:\n",
        "      return None\n",
        "  except requests.exceptions.connection.Error:\n",
        "    return None\n",
        "\n",
        "  soup = bs(response.text,\"html.parser\")\n",
        "  pattern  = re.compile(r'Occupation')\n",
        "  scripts = soup.find('script',{'type':\"application/ld+json\"},text = pattern )\n",
        "  json_raw = scripts.contents[0]\n",
        "  json_data =  json.loads(json_raw)\n",
        "\n",
        "  job_title = json_data['name']\n",
        "  location = json_data['occupationLocation'][0]['name']\n",
        "  description = json_data['description']\n",
        "  ntile_10 = json_data['estimatedSalary'][0]['percentile10']\n",
        "  ntile_25 = json_data['estimatedSalary'][0]['percentile25']\n",
        "  median = json_data['estimatedSalary'][0]['median']\n",
        "  ntile_75 = json_data['estimatedSalary'][0]['percentile75']\n",
        "  ntile_90 = json_data['estimatedSalary'][0]['percentile90']\n",
        "  \n",
        "  salary = (job_title,location,description,ntile_10,ntile_25,median,ntile_75,ntile_90)\n",
        "  return salary"
      ],
      "execution_count": null,
      "outputs": []
    },
    {
      "cell_type": "code",
      "metadata": {
        "id": "zk9w-xRxwjmB",
        "colab": {
          "base_uri": "https://localhost:8080/"
        },
        "outputId": "eb2e9fe8-db8e-4d06-9e97-5fe7cb431e20"
      },
      "source": [
        "from google.colab import drive\n",
        "drive.mount(\"/content/drive\", force_remount=True)"
      ],
      "execution_count": null,
      "outputs": [
        {
          "output_type": "stream",
          "text": [
            "Mounted at /content/drive\n"
          ],
          "name": "stdout"
        }
      ]
    },
    {
      "cell_type": "code",
      "metadata": {
        "id": "FeostJVV0tq2"
      },
      "source": [
        "largest_city_path = \"/content/drive/MyDrive/datascience_file/largest_uscities.csv\""
      ],
      "execution_count": null,
      "outputs": []
    },
    {
      "cell_type": "code",
      "metadata": {
        "id": "XKl6z9kx2CV4"
      },
      "source": [
        "with open(\"/content/drive/MyDrive/datascience_file/largest_uscities.csv\",encoding='cp1252', newline='') as f:\n",
        "   reader = csv.reader(f) \n",
        "   cities = [city for row in reader for city in row]"
      ],
      "execution_count": null,
      "outputs": []
    },
    {
      "cell_type": "code",
      "metadata": {
        "colab": {
          "base_uri": "https://localhost:8080/"
        },
        "id": "h0nDPzXV2E4c",
        "outputId": "0042f82b-0998-4c67-eae7-d995f0f855d5"
      },
      "source": [
        "print(cities[:10])"
      ],
      "execution_count": null,
      "outputs": [
        {
          "output_type": "stream",
          "text": [
            "['New-York-NY', 'Los-Angeles-CA', 'Chicago-IL', 'Houston-TX', 'Phoenix-AZ', 'Philadelphia-PA', 'San-Antonio-TX', 'San-Diego-CA', 'Dallas-TX', 'San-Jose-CA']\n"
          ],
          "name": "stdout"
        }
      ]
    },
    {
      "cell_type": "markdown",
      "metadata": {
        "id": "rFQO243gAe5F"
      },
      "source": [
        ""
      ]
    },
    {
      "cell_type": "code",
      "metadata": {
        "id": "0gjpK2w03WXT"
      },
      "source": [
        "salary_data = []\n",
        "for city in cities:\n",
        "  result = extract_salary('senior-accountant',city)\n",
        "  if result:\n",
        "    salary_data.append(result)\n",
        "    sleep(0.5)\n"
      ],
      "execution_count": null,
      "outputs": []
    },
    {
      "cell_type": "code",
      "metadata": {
        "colab": {
          "base_uri": "https://localhost:8080/"
        },
        "id": "R49UoCoR6pcl",
        "outputId": "dd6d4d5d-d5cc-4647-e895-493b6929faf8"
      },
      "source": [
        "for row in salary_data[:5]:\n",
        "  print(row)"
      ],
      "execution_count": null,
      "outputs": [
        {
          "output_type": "stream",
          "text": [
            "('Senior Accountant', 'New York, NY', 'The Senior Accountant ensures the accuracy of entries to ledger accounts and reconciles subsidiary ledger accounts to the general ledger. Maintains financial records and ensures that financial transactions are properly recorded. Being a Senior Accountant analyzes current costs, revenues, financial commitments, and obligations incurred to predict future revenues and expenses. Prepares complex balance sheets, profit and loss statements and other financial reports. In addition, Senior Accountant may supervise and guide lower-level accountants. Requires a bachelor&#39;s degree. May require CPA certification. Typically reports to a supervisor or manager. Being a Senior Accountant contributes to moderately complex aspects of a project. Work is generally independent and collaborative in nature. Working as a Senior Accountant typically requires 4 to 7 years of related experience.', '80114', '88490', '97690', '108390', '118132')\n",
            "('Senior Accountant', 'Los Angeles, CA', 'The Senior Accountant ensures the accuracy of entries to ledger accounts and reconciles subsidiary ledger accounts to the general ledger. Maintains financial records and ensures that financial transactions are properly recorded. Being a Senior Accountant analyzes current costs, revenues, financial commitments, and obligations incurred to predict future revenues and expenses. Prepares complex balance sheets, profit and loss statements and other financial reports. In addition, Senior Accountant may supervise and guide lower-level accountants. Requires a bachelor&#39;s degree. May require CPA certification. Typically reports to a supervisor or manager. Being a Senior Accountant contributes to moderately complex aspects of a project. Work is generally independent and collaborative in nature. Working as a Senior Accountant typically requires 4 to 7 years of related experience.', '75269', '83190', '91890', '101890', '110994')\n",
            "('Senior Accountant', 'Chicago, IL', 'The Senior Accountant ensures the accuracy of entries to ledger accounts and reconciles subsidiary ledger accounts to the general ledger. Maintains financial records and ensures that financial transactions are properly recorded. Being a Senior Accountant analyzes current costs, revenues, financial commitments, and obligations incurred to predict future revenues and expenses. Prepares complex balance sheets, profit and loss statements and other financial reports. In addition, Senior Accountant may supervise and guide lower-level accountants. Requires a bachelor&#39;s degree. May require CPA certification. Typically reports to a supervisor or manager. Being a Senior Accountant contributes to moderately complex aspects of a project. Work is generally independent and collaborative in nature. Working as a Senior Accountant typically requires 4 to 7 years of related experience.', '70524', '77990', '86190', '95590', '104148')\n",
            "('Senior Accountant', 'Houston, TX', 'The Senior Accountant ensures the accuracy of entries to ledger accounts and reconciles subsidiary ledger accounts to the general ledger. Maintains financial records and ensures that financial transactions are properly recorded. Being a Senior Accountant analyzes current costs, revenues, financial commitments, and obligations incurred to predict future revenues and expenses. Prepares complex balance sheets, profit and loss statements and other financial reports. In addition, Senior Accountant may supervise and guide lower-level accountants. Requires a bachelor&#39;s degree. May require CPA certification. Typically reports to a supervisor or manager. Being a Senior Accountant contributes to moderately complex aspects of a project. Work is generally independent and collaborative in nature. Working as a Senior Accountant typically requires 4 to 7 years of related experience.', '68197', '75390', '83290', '92290', '100484')\n",
            "('Senior Accountant', 'Phoenix, AZ', 'The Senior Accountant ensures the accuracy of entries to ledger accounts and reconciles subsidiary ledger accounts to the general ledger. Maintains financial records and ensures that financial transactions are properly recorded. Being a Senior Accountant analyzes current costs, revenues, financial commitments, and obligations incurred to predict future revenues and expenses. Prepares complex balance sheets, profit and loss statements and other financial reports. In addition, Senior Accountant may supervise and guide lower-level accountants. Requires a bachelor&#39;s degree. May require CPA certification. Typically reports to a supervisor or manager. Being a Senior Accountant contributes to moderately complex aspects of a project. Work is generally independent and collaborative in nature. Working as a Senior Accountant typically requires 4 to 7 years of related experience.', '65771', '72690', '80290', '88990', '96911')\n"
          ],
          "name": "stdout"
        }
      ]
    },
    {
      "cell_type": "code",
      "metadata": {
        "id": "6-1zdAcj7Uyy"
      },
      "source": [
        "with open('salary_data.csv','w',newline='',encoding='cp1252') as f:\n",
        "  writer = csv.writer(f)\n",
        "  writer.writerow(['job_title','location','description','ntile_10','ntile_25','median','ntile_75','ntile_90'])\n",
        "  writer.writerows(salary_data)\n"
      ],
      "execution_count": null,
      "outputs": []
    },
    {
      "cell_type": "code",
      "metadata": {
        "id": "OoD12QDC_l3L"
      },
      "source": [
        ""
      ],
      "execution_count": null,
      "outputs": []
    }
  ]
}